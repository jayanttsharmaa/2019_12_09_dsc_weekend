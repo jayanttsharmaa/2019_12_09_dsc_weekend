{
 "cells": [
  {
   "cell_type": "code",
   "execution_count": 3,
   "metadata": {},
   "outputs": [
    {
     "name": "stdout",
     "output_type": "stream",
     "text": [
      "abcdpqrabcd\n",
      "abcd pqr abcd\n"
     ]
    }
   ],
   "source": [
    "# remove spaces in a string\n",
    "s = 'ab cd pqr abcd'\n",
    "r = s.replace(' ', '')\n",
    "print(r)\n",
    "r = s.replace(' ', '', 1)\n",
    "print(r)"
   ]
  },
  {
   "cell_type": "markdown",
   "metadata": {},
   "source": [
    "## if- else"
   ]
  },
  {
   "cell_type": "code",
   "execution_count": 3,
   "metadata": {},
   "outputs": [
    {
     "name": "stdout",
     "output_type": "stream",
     "text": [
      "11\n",
      "Odd\n"
     ]
    }
   ],
   "source": [
    "x = int(input())\n",
    "\n",
    "if (x%2 == 0):\n",
    "    print(\"Even\")\n",
    "else:\n",
    "    print(\"Odd\")"
   ]
  },
  {
   "cell_type": "code",
   "execution_count": 18,
   "metadata": {},
   "outputs": [
    {
     "name": "stdout",
     "output_type": "stream",
     "text": [
      "1\n",
      "kid\n"
     ]
    }
   ],
   "source": [
    "# input age and print 'kid ' if age below 18 else print 'adult'\n",
    "age = int(input())\n",
    "\n",
    "if (age >= 18):\n",
    "    print(\"Person of age \", age , \"is adult\")\n",
    "else:\n",
    "    print(\"kid\")"
   ]
  },
  {
   "cell_type": "code",
   "execution_count": 1,
   "metadata": {},
   "outputs": [
    {
     "name": "stdout",
     "output_type": "stream",
     "text": [
      "-1\n",
      "kid\n",
      "End\n"
     ]
    }
   ],
   "source": []
  },
  {
   "cell_type": "code",
   "execution_count": null,
   "metadata": {},
   "outputs": [],
   "source": [
    "n1 = int(input())\n",
    "n2 = int(input())\n",
    "\n",
    "r = n1\n",
    "if r < n2:\n",
    "    r = n2\n",
    "    \n",
    "print(r)"
   ]
  },
  {
   "cell_type": "code",
   "execution_count": 7,
   "metadata": {},
   "outputs": [
    {
     "name": "stdout",
     "output_type": "stream",
     "text": [
      "Enter some number:-1\n",
      "Not an integer\n"
     ]
    }
   ],
   "source": [
    "# WAP to input a number and convert to int. \n",
    "# Add logic to check if it is actually a nuber or not\n",
    "# Ex: 1 is number ;  A is not a number\n",
    "\n",
    "s = input('Enter some number:')\n",
    "\n",
    "if s.isdigit():\n",
    "    print('Integer', int(s))\n",
    "else:\n",
    "    print('Not an integer')"
   ]
  },
  {
   "cell_type": "code",
   "execution_count": null,
   "metadata": {},
   "outputs": [],
   "source": [
    "##  logical operators\n",
    "## and , or , not "
   ]
  },
  {
   "cell_type": "code",
   "execution_count": 12,
   "metadata": {},
   "outputs": [
    {
     "name": "stdout",
     "output_type": "stream",
     "text": [
      "-1\n",
      "Not in range\n"
     ]
    }
   ],
   "source": [
    "# number b/w 10-20\n",
    "n = int(input())\n",
    "\n",
    "if n >= 10 and n <= 20:\n",
    "    print('10-20')\n",
    "else:\n",
    "    print('Not in range')"
   ]
  },
  {
   "cell_type": "code",
   "execution_count": 16,
   "metadata": {},
   "outputs": [
    {
     "name": "stdout",
     "output_type": "stream",
     "text": [
      "Enter a character:A\n",
      "It is not a\n"
     ]
    }
   ],
   "source": [
    "s = input('Enter a character:')\n",
    "\n",
    "if s.lower() == 'a':\n",
    "    print('It is a')\n",
    "else:\n",
    "    print('It is not a')\n",
    "\n",
    "\n",
    "if s == 'a' or s == 'A':\n",
    "    print('It is a')\n",
    "else:\n",
    "    print('It is not a')"
   ]
  },
  {
   "cell_type": "code",
   "execution_count": 18,
   "metadata": {},
   "outputs": [
    {
     "name": "stdout",
     "output_type": "stream",
     "text": [
      "ae\n",
      "Now Vowel\n"
     ]
    }
   ],
   "source": [
    "s = input()\n",
    "\n",
    "if len(s) == 1 and s in 'aeiouAEIOU':\n",
    "    print(\"Vowel\")\n",
    "else:\n",
    "    print(\"Now Vowel\")"
   ]
  },
  {
   "cell_type": "code",
   "execution_count": null,
   "metadata": {},
   "outputs": [],
   "source": [
    "n1 = input('Enter a number:')"
   ]
  },
  {
   "cell_type": "code",
   "execution_count": 20,
   "metadata": {},
   "outputs": [
    {
     "ename": "IndentationError",
     "evalue": "unindent does not match any outer indentation level (<tokenize>, line 12)",
     "output_type": "error",
     "traceback": [
      "\u001b[1;36m  File \u001b[1;32m\"<tokenize>\"\u001b[1;36m, line \u001b[1;32m12\u001b[0m\n\u001b[1;33m    print(\"abcd\")\u001b[0m\n\u001b[1;37m    ^\u001b[0m\n\u001b[1;31mIndentationError\u001b[0m\u001b[1;31m:\u001b[0m unindent does not match any outer indentation level\n"
     ]
    }
   ],
   "source": [
    "# input age and print 'kid ' if age below 18 ; 18-60 print 'adult'; >60 print 'old'\n",
    "age = int(input())\n",
    "\n",
    "if age >= 0 and age <= 100: # outer\n",
    "    if (age < 18):  # inner\n",
    "        print(\"kid\")\n",
    "    elif (age < 60):\n",
    "        print(\"adult\") \n",
    "    else:\n",
    "        print(\"old\")\n",
    "    print(\"abcd\")\n",
    "else:\n",
    "    print(\"invalid age\")\n",
    "    \n",
    "print('End')"
   ]
  },
  {
   "cell_type": "code",
   "execution_count": 3,
   "metadata": {},
   "outputs": [
    {
     "name": "stdout",
     "output_type": "stream",
     "text": [
      "3\n",
      "2\n",
      "1\n",
      "\n",
      "3\n"
     ]
    }
   ],
   "source": [
    "n1 = int(input())\n",
    "n2 = int(input())\n",
    "n3 = int(input())\n",
    "\n",
    "print()\n",
    "if n1 >= n2 and n1 >= n3:\n",
    "    print(n1)\n",
    "elif n2 >= n1 and n2 >= n3:\n",
    "    print(n2)\n",
    "else:\n",
    "    print(n3)\n"
   ]
  },
  {
   "cell_type": "code",
   "execution_count": 6,
   "metadata": {},
   "outputs": [
    {
     "name": "stdout",
     "output_type": "stream",
     "text": [
      "3\n",
      "1\n",
      "2\n",
      "3\n"
     ]
    }
   ],
   "source": [
    "n1 = int(input())\n",
    "n2 = int(input())\n",
    "n3 = int(input())\n",
    "\n",
    "l = n1\n",
    "if n2 >= l:\n",
    "    l  = n2\n",
    "if n3 > l:\n",
    "    l = n3\n",
    "print(l)\n",
    "# n1 n2 n3\n",
    "# 2  1  3\n",
    "# l 2 3"
   ]
  }
 ],
 "metadata": {
  "kernelspec": {
   "display_name": "Python 3",
   "language": "python",
   "name": "python3"
  },
  "language_info": {
   "codemirror_mode": {
    "name": "ipython",
    "version": 3
   },
   "file_extension": ".py",
   "mimetype": "text/x-python",
   "name": "python",
   "nbconvert_exporter": "python",
   "pygments_lexer": "ipython3",
   "version": "3.7.3"
  }
 },
 "nbformat": 4,
 "nbformat_minor": 2
}
