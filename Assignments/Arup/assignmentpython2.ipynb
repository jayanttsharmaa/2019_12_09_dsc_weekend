{
 "cells": [
  {
   "cell_type": "code",
   "execution_count": 1,
   "metadata": {},
   "outputs": [
    {
     "name": "stdout",
     "output_type": "stream",
     "text": [
      "d\n",
      "detneirO tcejbO si nohtyP\n",
      "Python is Object Oriente\n",
      "\n",
      "on is \n",
      "Pto sOjc retd\n",
      "thon is Object Ori\n"
     ]
    }
   ],
   "source": [
    "s =\"Python is Object Oriented\"\n",
    "print(s[-1])\n",
    "print(s[::-1])\n",
    "print(s[:-1])\n",
    "print(s[1:1])\n",
    "print(s[4:10])\n",
    "print(s[::2])\n",
    "print(s[2:-5])"
   ]
  },
  {
   "cell_type": "code",
   "execution_count": 2,
   "metadata": {},
   "outputs": [
    {
     "ename": "IndexError",
     "evalue": "string index out of range",
     "output_type": "error",
     "traceback": [
      "\u001b[1;31m---------------------------------------------------------------------------\u001b[0m",
      "\u001b[1;31mIndexError\u001b[0m                                Traceback (most recent call last)",
      "\u001b[1;32m<ipython-input-2-0f0be3dd2508>\u001b[0m in \u001b[0;36m<module>\u001b[1;34m\u001b[0m\n\u001b[0;32m      1\u001b[0m \u001b[0ms\u001b[0m\u001b[1;33m=\u001b[0m\u001b[1;34m''\u001b[0m\u001b[1;33m\u001b[0m\u001b[1;33m\u001b[0m\u001b[0m\n\u001b[1;32m----> 2\u001b[1;33m \u001b[0mprint\u001b[0m\u001b[1;33m(\u001b[0m\u001b[0ms\u001b[0m\u001b[1;33m[\u001b[0m\u001b[1;36m1\u001b[0m\u001b[1;33m]\u001b[0m\u001b[1;33m)\u001b[0m\u001b[1;33m\u001b[0m\u001b[1;33m\u001b[0m\u001b[0m\n\u001b[0m",
      "\u001b[1;31mIndexError\u001b[0m: string index out of range"
     ]
    }
   ],
   "source": [
    "s=''\n",
    "print(s[1])\n"
   ]
  },
  {
   "cell_type": "code",
   "execution_count": 29,
   "metadata": {},
   "outputs": [
    {
     "name": "stdout",
     "output_type": "stream",
     "text": [
      "6\n",
      "abc\n",
      "3\n"
     ]
    }
   ],
   "source": [
    "s = 'a b cd'\n",
    "print(len(s))\n",
    "print(s[::2])\n",
    "print(len(s[::2]))\n"
   ]
  },
  {
   "cell_type": "code",
   "execution_count": 4,
   "metadata": {},
   "outputs": [
    {
     "name": "stdout",
     "output_type": "stream",
     "text": [
      "['a#b#c#d#']\n",
      "['a', 'b', 'c', 'd', '']\n",
      "a$b$c$d$\n"
     ]
    }
   ],
   "source": [
    "s=\"a#b#c#d#\"\n",
    "print(s.split())\n",
    "print(s.split('#'))\n",
    "l=s.split('#')\n",
    "s='$'.join(l)\n",
    "print(s)"
   ]
  },
  {
   "cell_type": "code",
   "execution_count": 30,
   "metadata": {},
   "outputs": [
    {
     "name": "stdout",
     "output_type": "stream",
     "text": [
      " r\n"
     ]
    }
   ],
   "source": [
    "s =' Gaurav'\n",
    "s=s[::-2][::-2]\n",
    "print(s)"
   ]
  },
  {
   "cell_type": "code",
   "execution_count": 42,
   "metadata": {},
   "outputs": [
    {
     "name": "stdout",
     "output_type": "stream",
     "text": [
      "abcba\n",
      "0,0,1,"
     ]
    }
   ],
   "source": [
    "s='abcba'\n",
    "s.upper()\n",
    "print(s)\n",
    "print(s.count('A'),end=',')\n",
    "print(s.count('A',2,4),end=',')\n",
    "print(s.count('a',0,4),end=',')\n"
   ]
  },
  {
   "cell_type": "code",
   "execution_count": 80,
   "metadata": {},
   "outputs": [
    {
     "data": {
      "text/plain": [
       "'abcd'"
      ]
     },
     "execution_count": 80,
     "metadata": {},
     "output_type": "execute_result"
    }
   ],
   "source": [
    "s='a b cd'\n",
    "s.replace(\" \",\"\")\n",
    "\n"
   ]
  },
  {
   "cell_type": "code",
   "execution_count": 83,
   "metadata": {},
   "outputs": [
    {
     "data": {
      "text/plain": [
       "False"
      ]
     },
     "execution_count": 83,
     "metadata": {},
     "output_type": "execute_result"
    }
   ],
   "source": [
    "import string as s\n",
    "\n",
    "'rsstrip' in dir(s)"
   ]
  },
  {
   "cell_type": "code",
   "execution_count": 97,
   "metadata": {},
   "outputs": [
    {
     "name": "stdout",
     "output_type": "stream",
     "text": [
      "enter you full namearup mohanty\n",
      "1\n",
      "['arup', 'mohanty']\n"
     ]
    }
   ],
   "source": [
    "#split string into two having spaces\n",
    "\n",
    "s1=input(\"enter you full name\")\n",
    "s2=s1.split()\n",
    "print(len(s1[0]))\n",
    "print(s2)"
   ]
  },
  {
   "cell_type": "code",
   "execution_count": 92,
   "metadata": {},
   "outputs": [
    {
     "name": "stdout",
     "output_type": "stream",
     "text": [
      "enter string to splitarup\n",
      "ar\n",
      "up\n"
     ]
    }
   ],
   "source": [
    "s=input(\"enter string to split\")\n",
    "\n",
    "s1=s[:len(s)//2]\n",
    "s2=s[len(s)//2:]\n",
    "print(s1,s2,sep='\\n')"
   ]
  },
  {
   "cell_type": "code",
   "execution_count": 93,
   "metadata": {},
   "outputs": [
    {
     "name": "stdout",
     "output_type": "stream",
     "text": [
      "\t*****\n",
      "          * \n",
      "          *\n",
      "          *\n",
      "          *\n",
      "          *\n",
      "*\t\t*\n",
      "*  *   *   *    *\n",
      "*      * \t*\n",
      "*      *        *\n",
      "\n",
      "\t____________\n",
      "        |           |\n",
      "        O           |\n",
      "       /|\\          |\n",
      "       / \\          |\n",
      "                    |\n",
      "        ____________\n"
     ]
    }
   ],
   "source": [
    "s = \"\"\"\\t*****\n",
    "          * \n",
    "          *\n",
    "          *\n",
    "          *\n",
    "          *\"\"\"\n",
    "print(s)\n",
    "s1 = \"\"\"*\\t\\t*\n",
    "*  *   *   *    *\n",
    "*      * \\t*\n",
    "*      *        *\n",
    "\"\"\"\n",
    "print(s1)\n",
    "s3 = \"\"\"\\t____________\n",
    "        |           |\n",
    "        O           |\n",
    "       /|\\          |\n",
    "       / \\          |\n",
    "                    |\n",
    "        ____________\"\"\"\n",
    "print(s3)"
   ]
  }
 ],
 "metadata": {
  "kernelspec": {
   "display_name": "Python 3",
   "language": "python",
   "name": "python3"
  },
  "language_info": {
   "codemirror_mode": {
    "name": "ipython",
    "version": 3
   },
   "file_extension": ".py",
   "mimetype": "text/x-python",
   "name": "python",
   "nbconvert_exporter": "python",
   "pygments_lexer": "ipython3",
   "version": "3.7.4"
  }
 },
 "nbformat": 4,
 "nbformat_minor": 2
}
