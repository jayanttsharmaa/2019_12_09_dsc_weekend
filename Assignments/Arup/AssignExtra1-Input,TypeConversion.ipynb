{
 "cells": [
  {
   "cell_type": "markdown",
   "metadata": {},
   "source": [
    "# Farenheit to celcius"
   ]
  },
  {
   "cell_type": "code",
   "execution_count": 1,
   "metadata": {},
   "outputs": [
    {
     "name": "stdout",
     "output_type": "stream",
     "text": [
      "Enter a temperature in Fahrenheit: 97\n",
      "Fahrenheit 97 in Celsius is 36.111111111111114\n"
     ]
    }
   ],
   "source": [
    "Fahrenheit = int(input(\"Enter a temperature in Fahrenheit: \"))\n",
    "\n",
    "Celsius = (Fahrenheit - 32) * 5.0/9.0\n",
    "\n",
    "print(\"Fahrenheit\",Fahrenheit ,\"in Celsius is\" ,Celsius)"
   ]
  },
  {
   "cell_type": "markdown",
   "metadata": {},
   "source": [
    "### print sqr and cube of a number"
   ]
  },
  {
   "cell_type": "code",
   "execution_count": 2,
   "metadata": {},
   "outputs": [
    {
     "name": "stdout",
     "output_type": "stream",
     "text": [
      "Enter a number: 2\n",
      "square of 2 is 4\n",
      "square of 2 is 8\n"
     ]
    }
   ],
   "source": [
    "number = int (input(\"Enter a number: \"))\n",
    "\n",
    "# square and cube\n",
    "print (\"square of {0} is {1}\".format(number, number**2))\n",
    "print (\"square of {0} is {1}\".format(number, number**3))"
   ]
  },
  {
   "cell_type": "markdown",
   "metadata": {},
   "source": [
    "### compute two number n^2+m^2"
   ]
  },
  {
   "cell_type": "code",
   "execution_count": 3,
   "metadata": {},
   "outputs": [
    {
     "name": "stdout",
     "output_type": "stream",
     "text": [
      "Enter  1st number: 2\n",
      "Enter 2nd number: 3\n",
      "output of n^2+m^2 13\n"
     ]
    }
   ],
   "source": [
    "n = int (input(\"Enter  1st number: \"))\n",
    "m = int (input(\"Enter 2nd number: \"))\n",
    "\n",
    "print(\"output of n^2+m^2\", n**2+m**2)"
   ]
  },
  {
   "cell_type": "markdown",
   "metadata": {},
   "source": [
    "###  Compute result of two nos M**N"
   ]
  },
  {
   "cell_type": "code",
   "execution_count": 4,
   "metadata": {},
   "outputs": [
    {
     "name": "stdout",
     "output_type": "stream",
     "text": [
      "Enter  1st number: 2\n",
      "Enter 2nd number: 3\n",
      "output of M^N 9 9\n"
     ]
    }
   ],
   "source": [
    "n = int (input(\"Enter  1st number: \"))\n",
    "m = int (input(\"Enter 2nd number: \"))\n",
    "\n",
    "print(\"output of M^N\", m**n, pow(m,n))\n"
   ]
  },
  {
   "cell_type": "markdown",
   "metadata": {},
   "source": [
    "### simple interest calculator"
   ]
  },
  {
   "cell_type": "code",
   "execution_count": 5,
   "metadata": {},
   "outputs": [
    {
     "name": "stdout",
     "output_type": "stream",
     "text": [
      "Enter principal amount: 10000\n",
      "Enter  rate of interest per year: 5\n",
      "Time period: 5\n",
      "Total amount after 5 years is 12500.0\n",
      "Total interest amount after 5 years is 2500.0\n"
     ]
    }
   ],
   "source": [
    "\n",
    "p= int (input(\"Enter principal amount: \"))\n",
    "r= float (input(\"Enter  rate of interest per year: \"))\n",
    "t = int (input(\"Time period: \"))\n",
    "a=(p*(1+r/100*t))\n",
    "print(\"Total amount after {0} years is {1}\".format(t,a))\n",
    "print(\"Total interest amount after {0} years is {1}\".format(t,(a-p)))"
   ]
  },
  {
   "cell_type": "markdown",
   "metadata": {},
   "source": [
    "### Compound interest calculator"
   ]
  },
  {
   "cell_type": "code",
   "execution_count": null,
   "metadata": {},
   "outputs": [],
   "source": [
    "p= int (input(\"Enter principal amount: \"))\n",
    "r= float (input(\"Enter  rate of interest per year: \"))\n",
    "r = r/100\n",
    "t = int (input(\"Time period: \"))\n",
    "n= int (input(\" no of times interest calculated per year \"))\n",
    "a=p*((1+r/n)**(n*t))\n",
    "print(\"Total amount after {0} years is {1}\".format(t,a))\n"
   ]
  },
  {
   "cell_type": "code",
   "execution_count": 9,
   "metadata": {},
   "outputs": [
    {
     "name": "stdout",
     "output_type": "stream",
     "text": [
      "Enter the number: 4\n",
      "sum of first 4 natural number is 10\n"
     ]
    }
   ],
   "source": [
    "## sum of first n natural nos\n",
    "n= int(input(\"Enter the number: \"))\n",
    "s= (n*(n+1))//2\n",
    "print(\"sum of first {0} natural number is {1}\".format(n,s))"
   ]
  },
  {
   "cell_type": "markdown",
   "metadata": {},
   "source": [
    "### WAP to input 2 numbers and swap them"
   ]
  },
  {
   "cell_type": "code",
   "execution_count": 17,
   "metadata": {},
   "outputs": [
    {
     "name": "stdout",
     "output_type": "stream",
     "text": [
      "Enter the 1st number: 2\n",
      "Enter the 2nd number: 3\n",
      "value of n after swapping is 3\n",
      "value of m after swapping is 2\n"
     ]
    }
   ],
   "source": [
    "n= int(input(\"Enter the 1st number: \"))\n",
    "m= int(input(\"Enter the 2nd number: \"))\n",
    "c=n\n",
    "n=m\n",
    "m=c\n",
    "print('value of n after swapping is',n) \n",
    "print('value of m after swapping is',m)\n",
    "\n",
    "    \n"
   ]
  },
  {
   "cell_type": "code",
   "execution_count": 18,
   "metadata": {},
   "outputs": [
    {
     "name": "stdout",
     "output_type": "stream",
     "text": [
      "Enter the 1st number: 2\n",
      "Enter the 2nd number: 3\n",
      "value of n after swapping is 3\n",
      "value of m after swapping is 2\n"
     ]
    }
   ],
   "source": [
    "n= int(input(\"Enter the 1st number: \"))\n",
    "m= int(input(\"Enter the 2nd number: \"))\n",
    "\n",
    "n,m=m,n\n",
    "print('value of n after swapping is',n) \n",
    "print('value of m after swapping is',m)\n"
   ]
  },
  {
   "cell_type": "markdown",
   "metadata": {},
   "source": [
    "### Ascii of all white spaces in python and single character"
   ]
  },
  {
   "cell_type": "code",
   "execution_count": 37,
   "metadata": {},
   "outputs": [
    {
     "name": "stdout",
     "output_type": "stream",
     "text": [
      "ascii value of space 32\n",
      "ascii value of \\t 9\n",
      "ascii value of \\n 10\n",
      "ascii value of \\r 13\n"
     ]
    }
   ],
   "source": [
    "print(\"ascii value of space\",ord(' '))\n",
    "print(\"ascii value of \\\\t\",ord('\\t'))\n",
    "print(\"ascii value of \\\\n\",ord('\\n'))\n",
    "print(\"ascii value of \\\\r\",ord('\\r'))"
   ]
  },
  {
   "cell_type": "code",
   "execution_count": 38,
   "metadata": {},
   "outputs": [
    {
     "name": "stdout",
     "output_type": "stream",
     "text": [
      "enter a string character:a\n",
      "97\n"
     ]
    }
   ],
   "source": [
    "c= input(\"enter a string character:\")\n",
    "print(ord(c))"
   ]
  },
  {
   "cell_type": "markdown",
   "metadata": {},
   "source": [
    "### Radius and circumference of circle from area"
   ]
  },
  {
   "cell_type": "code",
   "execution_count": 48,
   "metadata": {},
   "outputs": [
    {
     "name": "stdout",
     "output_type": "stream",
     "text": [
      "enter area of a circle:9\n",
      "radius of circle is 1.692568750643269\n",
      "circumference of circle is 10.634723105433096\n"
     ]
    }
   ],
   "source": [
    "from  math import *\n",
    "a=float(input(\"enter area of a circle:\"))\n",
    "\n",
    "r=sqrt((a/pi))\n",
    "c=2*pi*r\n",
    "print('radius of circle is',r)\n",
    "print('circumference of circle is',c)"
   ]
  },
  {
   "cell_type": "code",
   "execution_count": null,
   "metadata": {},
   "outputs": [],
   "source": []
  },
  {
   "cell_type": "code",
   "execution_count": null,
   "metadata": {},
   "outputs": [],
   "source": []
  }
 ],
 "metadata": {
  "kernelspec": {
   "display_name": "Python 3",
   "language": "python",
   "name": "python3"
  },
  "language_info": {
   "codemirror_mode": {
    "name": "ipython",
    "version": 3
   },
   "file_extension": ".py",
   "mimetype": "text/x-python",
   "name": "python",
   "nbconvert_exporter": "python",
   "pygments_lexer": "ipython3",
   "version": "3.7.4"
  }
 },
 "nbformat": 4,
 "nbformat_minor": 2
}
