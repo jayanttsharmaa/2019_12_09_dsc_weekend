{
 "cells": [
  {
   "cell_type": "markdown",
   "metadata": {},
   "source": [
    "# 1.WAP to print first n natural numbers (input n from user)."
   ]
  },
  {
   "cell_type": "code",
   "execution_count": 7,
   "metadata": {},
   "outputs": [
    {
     "name": "stdout",
     "output_type": "stream",
     "text": [
      "Enter a number: 10\n",
      "1 2 3 4 5 6 7 8 9 10 \n"
     ]
    }
   ],
   "source": [
    "def get_nNumbers(rev=False):\n",
    "    numbers = []\n",
    "    for i in range(int(input('Enter a number: '))):\n",
    "        if rev:\n",
    "            numbers.insert(0,i+1)\n",
    "        else:\n",
    "            numbers.append(i+1)\n",
    "    return numbers\n",
    "\n",
    "for i in get_nNumbers():\n",
    "    print(i, end=' ')\n",
    "print()"
   ]
  },
  {
   "cell_type": "markdown",
   "metadata": {},
   "source": [
    "# 2.WAP to find sum of first n natural numbers"
   ]
  },
  {
   "cell_type": "code",
   "execution_count": 8,
   "metadata": {},
   "outputs": [
    {
     "name": "stdout",
     "output_type": "stream",
     "text": [
      "Enter a number: 10\n",
      "sum =  55\n"
     ]
    }
   ],
   "source": [
    "num = get_nNumbers()\n",
    "print('sum = ', sum(num))"
   ]
  },
  {
   "cell_type": "markdown",
   "metadata": {},
   "source": [
    "# 3.WAP to print first n natural numbers in reverse order."
   ]
  },
  {
   "cell_type": "code",
   "execution_count": 9,
   "metadata": {},
   "outputs": [
    {
     "name": "stdout",
     "output_type": "stream",
     "text": [
      "Enter a number: 10\n",
      "10 9 8 7 6 5 4 3 2 1 \n"
     ]
    }
   ],
   "source": [
    "for i in get_nNumbers(True):\n",
    "    print(i, end=' ')\n",
    "print()"
   ]
  },
  {
   "cell_type": "markdown",
   "metadata": {},
   "source": [
    "# 4.WAP to input a number and print its factorial."
   ]
  },
  {
   "cell_type": "code",
   "execution_count": 13,
   "metadata": {},
   "outputs": [
    {
     "name": "stdout",
     "output_type": "stream",
     "text": [
      "Enter number: 5\n",
      "factorial of number is:  120\n"
     ]
    }
   ],
   "source": [
    "def factorial(n):\n",
    "    fact = 1\n",
    "    for i in range(1,n+1):\n",
    "        fact *=i\n",
    "    return fact\n",
    "\n",
    "print('factorial of number is: ', factorial(int(input('Enter number: '))))\n",
    "        "
   ]
  },
  {
   "cell_type": "markdown",
   "metadata": {},
   "source": [
    "# 5. WAP to print Fibonacci sequence till n."
   ]
  },
  {
   "cell_type": "code",
   "execution_count": 16,
   "metadata": {},
   "outputs": [
    {
     "name": "stdout",
     "output_type": "stream",
     "text": [
      "Enter number: 10\n",
      "0 1 1 2 3 5 8 13 21 34 \n"
     ]
    }
   ],
   "source": [
    "def fib(n):\n",
    "    a = 0\n",
    "    b = 1\n",
    "    fb = [a,b]\n",
    "    for i in range(n-2):\n",
    "        c = a+b\n",
    "        fb.append(c)\n",
    "        a = b\n",
    "        b = c\n",
    "    return fb\n",
    "\n",
    "for i in fib(int(input('Enter number: '))):\n",
    "    print(i, end=' ')\n",
    "print( )"
   ]
  },
  {
   "cell_type": "markdown",
   "metadata": {},
   "source": [
    "# 6.WAP to print all digits of a number input from user."
   ]
  },
  {
   "cell_type": "code",
   "execution_count": 18,
   "metadata": {},
   "outputs": [
    {
     "name": "stdout",
     "output_type": "stream",
     "text": [
      "Enter a number: 5760\n",
      "5\n",
      "7\n",
      "6\n",
      "0\n"
     ]
    }
   ],
   "source": [
    "def get_digits(n):\n",
    "    s = str(n)\n",
    "    num = []\n",
    "    for i in s:\n",
    "        num.append(int(i))\n",
    "    return num\n",
    "\n",
    "s = input('Enter a number: ')\n",
    "for digit in get_digits(s):\n",
    "    print(digit)"
   ]
  },
  {
   "cell_type": "markdown",
   "metadata": {},
   "source": [
    "# 7. WAP to find sum of all digits of a number."
   ]
  },
  {
   "cell_type": "code",
   "execution_count": 19,
   "metadata": {},
   "outputs": [
    {
     "name": "stdout",
     "output_type": "stream",
     "text": [
      "Enter a number: 12345\n",
      "sum =  15\n"
     ]
    }
   ],
   "source": [
    "n = input('Enter a number: ')\n",
    "print('sum = ', sum(get_digits(n)) )"
   ]
  },
  {
   "cell_type": "markdown",
   "metadata": {},
   "source": [
    "# 8. WAP to find sum of following series given n as input from user\n",
    "#1 + 2! + 3! + 4! + 5! + ....n!"
   ]
  },
  {
   "cell_type": "code",
   "execution_count": 21,
   "metadata": {},
   "outputs": [
    {
     "name": "stdout",
     "output_type": "stream",
     "text": [
      "Enter number: 5\n",
      "sum of series of factorial =  153\n"
     ]
    }
   ],
   "source": [
    "n = int(input('Enter number: '))\n",
    "s = 0\n",
    "for i in range(1,n+1):\n",
    "    s+=factorial(i)\n",
    "    \n",
    "print('sum of series of factorial = ', s)\n",
    "              "
   ]
  },
  {
   "cell_type": "markdown",
   "metadata": {},
   "source": [
    "# 9. WAP to input base and exponent and print result without using inbuilt function pow(use for or while loop)."
   ]
  },
  {
   "cell_type": "code",
   "execution_count": 22,
   "metadata": {},
   "outputs": [
    {
     "name": "stdout",
     "output_type": "stream",
     "text": [
      "Enter base: 2\n",
      "Enter exponent8\n",
      "Result =  256\n"
     ]
    }
   ],
   "source": [
    "base = int(input('Enter base: '))\n",
    "exp = int(input('Enter exponent'))\n",
    "print('Result = ',base**exp)"
   ]
  },
  {
   "cell_type": "code",
   "execution_count": 41,
   "metadata": {},
   "outputs": [
    {
     "name": "stdout",
     "output_type": "stream",
     "text": [
      "Enter the height of the pattern: 5\n",
      "Enter between 1 and 4 to select a pattern: 4\n",
      "      *\n",
      "     ***\n",
      "    *****\n",
      "   *******\n",
      "  *********\n"
     ]
    }
   ],
   "source": [
    "height = int(input('Enter the height of the pattern: '))\n",
    "pattern=0\n",
    "while( 4 < pattern or pattern  < 1):\n",
    "    pattern = int(input('Enter between 1 and 4 to select a pattern: '))\n",
    "    \n",
    "if pattern == 1:\n",
    "    for i in range(1,height+1):\n",
    "        print('*'*i)\n",
    "elif(pattern == 2):\n",
    "    while(height):\n",
    "        print('*'*height)\n",
    "        height-=1\n",
    "elif(pattern == 3):\n",
    "    for i in range(1,height+1):\n",
    "        print(' '*(height-i)+'*'*i)\n",
    "elif(pattern == 4):\n",
    "    for i in range(0,height):\n",
    "        print(' '*(height-i+1)+'*'+'*'*(2*i))\n",
    "    "
   ]
  },
  {
   "cell_type": "markdown",
   "metadata": {},
   "source": [
    "# 11. Print following number patterns:"
   ]
  },
  {
   "cell_type": "code",
   "execution_count": 43,
   "metadata": {},
   "outputs": [
    {
     "name": "stdout",
     "output_type": "stream",
     "text": [
      "Enter number: 5\n",
      "1\n",
      "22\n",
      "333\n",
      "4444\n",
      "55555\n"
     ]
    }
   ],
   "source": [
    "n = int(input('Enter number: '))\n",
    "for i in range(1,n+1):\n",
    "    print(str(i)*i)"
   ]
  },
  {
   "cell_type": "code",
   "execution_count": 47,
   "metadata": {},
   "outputs": [
    {
     "name": "stdout",
     "output_type": "stream",
     "text": [
      "Enter number: 5\n",
      "1\n",
      "12\n",
      "123\n",
      "1234\n",
      "12345\n"
     ]
    }
   ],
   "source": [
    "n = int(input('Enter number: '))\n",
    "for i in range(1,n+1):\n",
    "    line = ''\n",
    "    for j in range(1,i+1):\n",
    "        line = line+str(j)\n",
    "    print(line)"
   ]
  },
  {
   "cell_type": "code",
   "execution_count": 49,
   "metadata": {},
   "outputs": [
    {
     "name": "stdout",
     "output_type": "stream",
     "text": [
      "Enter number: 5\n",
      "5\n",
      "44\n",
      "333\n",
      "2222\n",
      "11111\n"
     ]
    }
   ],
   "source": [
    "n = int(input('Enter number: '))\n",
    "i = 1\n",
    "while(n):\n",
    "    print(str(n)*i)\n",
    "    i+=1\n",
    "    n-=1\n",
    "    "
   ]
  },
  {
   "cell_type": "code",
   "execution_count": 50,
   "metadata": {},
   "outputs": [
    {
     "name": "stdout",
     "output_type": "stream",
     "text": [
      "Enter number: 5\n",
      "    1\n",
      "   22\n",
      "  333\n",
      " 4444\n",
      "55555\n"
     ]
    }
   ],
   "source": [
    "n = int(input('Enter number: '))\n",
    "for i in range(1,height+1):\n",
    "        print(' '*(height-i)+str(i)*i)"
   ]
  },
  {
   "cell_type": "markdown",
   "metadata": {},
   "source": [
    "# 12. Print following character patterns:"
   ]
  },
  {
   "cell_type": "code",
   "execution_count": 52,
   "metadata": {},
   "outputs": [
    {
     "name": "stdout",
     "output_type": "stream",
     "text": [
      "A\n",
      "AB\n",
      "ABC\n",
      "ABCD\n",
      "ABCDE\n"
     ]
    }
   ],
   "source": [
    "alp = ord('A')\n",
    "n=5\n",
    "for i in range(1,n+1):\n",
    "    line = ''\n",
    "    al = alp\n",
    "    for j in range(1,i+1):\n",
    "        line = line+chr(al)\n",
    "        al +=1\n",
    "    print(line)\n"
   ]
  },
  {
   "cell_type": "code",
   "execution_count": 53,
   "metadata": {},
   "outputs": [
    {
     "name": "stdout",
     "output_type": "stream",
     "text": [
      "A\n",
      "BC\n",
      "DEF\n",
      "GHIJ\n",
      "KLMNO\n"
     ]
    }
   ],
   "source": [
    "alp = ord('A')\n",
    "n=5\n",
    "for i in range(1,i+1):\n",
    "    line=''\n",
    "    for j in range(1,i+1):\n",
    "        line = line+chr(alp)\n",
    "        alp+=1\n",
    "    print(line)"
   ]
  },
  {
   "cell_type": "code",
   "execution_count": 54,
   "metadata": {},
   "outputs": [
    {
     "name": "stdout",
     "output_type": "stream",
     "text": [
      "A\n",
      "BB\n",
      "CCC\n",
      "DDDD\n",
      "EEEEE\n"
     ]
    }
   ],
   "source": [
    "alp = ord('A')\n",
    "n=5\n",
    "for i in range(1,i+1):\n",
    "    print(chr(alp)*i)\n",
    "    alp+=1"
   ]
  },
  {
   "cell_type": "code",
   "execution_count": 63,
   "metadata": {},
   "outputs": [
    {
     "name": "stdout",
     "output_type": "stream",
     "text": [
      "     A\n",
      "    ABA\n",
      "   ABCAB\n",
      "  ABCDABC\n",
      " ABCDEABCD\n"
     ]
    }
   ],
   "source": [
    "alp = ord('A')\n",
    "n=5\n",
    "for i in range(1,n+1):\n",
    "    s = ''\n",
    "    for j in range(0,i):\n",
    "        s += chr(alp+j)\n",
    "    s = s + s[:-1]\n",
    "    print(' '*(n-i),s)"
   ]
  },
  {
   "cell_type": "code",
   "execution_count": null,
   "metadata": {},
   "outputs": [],
   "source": []
  },
  {
   "cell_type": "code",
   "execution_count": null,
   "metadata": {},
   "outputs": [],
   "source": []
  }
 ],
 "metadata": {
  "kernelspec": {
   "display_name": "Python 3",
   "language": "python",
   "name": "python3"
  },
  "language_info": {
   "codemirror_mode": {
    "name": "ipython",
    "version": 3
   },
   "file_extension": ".py",
   "mimetype": "text/x-python",
   "name": "python",
   "nbconvert_exporter": "python",
   "pygments_lexer": "ipython3",
   "version": "3.6.5"
  }
 },
 "nbformat": 4,
 "nbformat_minor": 2
}
