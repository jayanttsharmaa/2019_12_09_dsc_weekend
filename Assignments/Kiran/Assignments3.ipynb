{
 "cells": [
  {
   "cell_type": "markdown",
   "metadata": {},
   "source": [
    "# 1.WAP to input 2 strings and swap the strings"
   ]
  },
  {
   "cell_type": "code",
   "execution_count": 3,
   "metadata": {},
   "outputs": [
    {
     "name": "stdout",
     "output_type": "stream",
     "text": [
      "input first string: input 1\n",
      "input second string: input 2\n",
      "first string =  input 2\n",
      "second string =  input 1\n"
     ]
    }
   ],
   "source": [
    "first = input('input first string: ')\n",
    "second = input('input second string: ')\n",
    "second, first = first, second\n",
    "print('first string = ', first)\n",
    "print('second string = ', second)"
   ]
  },
  {
   "cell_type": "markdown",
   "metadata": {},
   "source": [
    "# 2. WAP to generate 4 random numbers in the range 0-26 and print their average"
   ]
  },
  {
   "cell_type": "code",
   "execution_count": 6,
   "metadata": {},
   "outputs": [
    {
     "name": "stdout",
     "output_type": "stream",
     "text": [
      "average of 4 random numbers =  9.75\n"
     ]
    }
   ],
   "source": [
    "import random\n",
    "numbers = []\n",
    "for i in range(4):\n",
    "    numbers.append(random.randrange(0,26))\n",
    "\n",
    "sum = 0\n",
    "for num in numbers:\n",
    "    sum+=num\n",
    "print('average of 4 random numbers = ',sum/4)"
   ]
  },
  {
   "cell_type": "markdown",
   "metadata": {},
   "source": [
    "# 3. WAP to generate and print a random uppercase or lowercase alphabet. Try these:\n",
    "• Create a string containing all alphabets and then select a random alphabet.\n",
    "• Check the module string"
   ]
  },
  {
   "cell_type": "code",
   "execution_count": 13,
   "metadata": {},
   "outputs": [
    {
     "name": "stdout",
     "output_type": "stream",
     "text": [
      "Y\n"
     ]
    }
   ],
   "source": [
    "import string\n",
    "print(random.choice(string.ascii_uppercase))"
   ]
  },
  {
   "cell_type": "markdown",
   "metadata": {},
   "source": [
    "# 4. WAF get_si() that takes Principle, Rate and Time as arguments and returns the Simple\n",
    "Interest"
   ]
  },
  {
   "cell_type": "markdown",
   "metadata": {},
   "source": [
    "Simple Interest Formula\n",
    "The formula for calculating simple interest is:\n",
    "\n",
    "P x r x t ÷ 100\n",
    "\n",
    "P = Principal\n",
    "\n",
    "r = Rate of Interest\n",
    "\n",
    "t = Term of the loan/deposit in years"
   ]
  },
  {
   "cell_type": "code",
   "execution_count": 24,
   "metadata": {},
   "outputs": [
    {
     "name": "stdout",
     "output_type": "stream",
     "text": [
      "==================================================\n",
      "Enter Principle amount: 1500\n",
      "Enter Rate of interest: 2.5\n",
      "Enter Term of the loan/deposit in years: 1.7\n",
      "Simple interest = Rs 63.75 /-\n",
      "==================================================\n"
     ]
    }
   ],
   "source": [
    "def get_si(principle, rate, time):\n",
    "    return p*t*r/100\n",
    "\n",
    "def get_ptr_ip():\n",
    "    p = int(input(\"Enter Principle amount: \"))\n",
    "    r = float(input(\"Enter Rate of interest: \"))\n",
    "    t = float(input(\"Enter Term of the loan/deposit in years: \"))\n",
    "    return p,t,r\n",
    "\n",
    "print('='*50)\n",
    "p,t,r = get_ptr_ip()\n",
    "si = get_si(p,r,t)\n",
    "print('Simple interest = Rs',si,'/-')\n",
    "print('='*50)"
   ]
  },
  {
   "cell_type": "markdown",
   "metadata": {},
   "source": [
    "# 5. WAF get_amount() that takes Principle, Rate and Time as arguments and returns the\n",
    "Total amount using the get_si() function from above to calculate the SI. Also provide\n",
    "Rate = 10 and Time = 1 as default arguments."
   ]
  },
  {
   "cell_type": "code",
   "execution_count": 27,
   "metadata": {},
   "outputs": [
    {
     "name": "stdout",
     "output_type": "stream",
     "text": [
      "Enter Principle amount: 1500\n",
      "Enter Rate of interest: 2.5\n",
      "Enter Term of the loan/deposit in years: 1.7\n",
      "Total amount = Rs  1563.75 /-\n"
     ]
    }
   ],
   "source": [
    "def get_amount(principle, rate=10, time=1):\n",
    "    return get_si(principle, rate, time)+principle\n",
    "\n",
    "p,t,r = get_ptr_ip()\n",
    "print(\"Total amount = Rs \",get_amount(p,r,t),'/-')"
   ]
  },
  {
   "cell_type": "markdown",
   "metadata": {},
   "source": [
    "# 6.WAP get_ci() that takes Principle, Rate and Time as arguments and returns the\n",
    "##Compound Interest."
   ]
  },
  {
   "cell_type": "code",
   "execution_count": null,
   "metadata": {},
   "outputs": [],
   "source": []
  },
  {
   "cell_type": "markdown",
   "metadata": {},
   "source": [
    "# 7. WAP get_q_r() taking 2 numbers as parameters and returns the quotient and\n",
    "#remainder in the form of a tuple."
   ]
  },
  {
   "cell_type": "code",
   "execution_count": 32,
   "metadata": {},
   "outputs": [
    {
     "name": "stdout",
     "output_type": "stream",
     "text": [
      "Enter first number: 17\n",
      "Enter second number: 7\n",
      "quotient and reminder in form of tuple =  (2, 3)\n"
     ]
    }
   ],
   "source": [
    "def get_q_r(n1, n2):\n",
    "    q = n1//n2\n",
    "    r = n1%n2\n",
    "    return (q,r)\n",
    "\n",
    "n1 = int(input('Enter first number: '))\n",
    "n2 = int(input('Enter second number: '))\n",
    "print('quotient and reminder in form of tuple = ', get_q_r(n1,n2))  "
   ]
  },
  {
   "cell_type": "markdown",
   "metadata": {},
   "source": [
    "# 8.WAP to find the length of hypotenuse of a right angled triangle, input the height and\n",
    "base from user."
   ]
  },
  {
   "cell_type": "code",
   "execution_count": 34,
   "metadata": {},
   "outputs": [
    {
     "name": "stdout",
     "output_type": "stream",
     "text": [
      "Enter Height of triangle: 10\n",
      "Enter Base of triangle: 10\n",
      "Hypotenuse of triangle =  14.142135623730951\n"
     ]
    }
   ],
   "source": [
    "import math as m\n",
    "\n",
    "def get_hyp(h,b):\n",
    "    return m.sqrt(h*h+b*b)\n",
    "\n",
    "height = int(input('Enter Height of triangle: '))\n",
    "base = int(input('Enter Base of triangle: '))\n",
    "print('Hypotenuse of triangle = ', get_hyp(height,base))"
   ]
  },
  {
   "cell_type": "markdown",
   "metadata": {},
   "source": [
    "# 9.WAP to input number of seconds and print in days, hours, minutes and seconds\n",
    "ex: input = 10000\n",
    "Output = 0 day 2 hour 46 minute 40 second"
   ]
  },
  {
   "cell_type": "code",
   "execution_count": 49,
   "metadata": {},
   "outputs": [
    {
     "name": "stdout",
     "output_type": "stream",
     "text": [
      "Enter seconds to be converted: 4750\n",
      "0days 1hours 19minutes 10seconds\n"
     ]
    }
   ],
   "source": [
    "def print_dt(seconds):\n",
    "    days = seconds//(60*60*24)\n",
    "    seconds -= days*(60*60*24)\n",
    "    hours = seconds//(60*60)\n",
    "    seconds -= hours*(60*60)\n",
    "    minutes = seconds//60\n",
    "    seconds -= minutes*60\n",
    "    print('{}days {}hours {}minutes {}seconds'.format(days,hours,minutes,seconds))\n",
    "    \n",
    "seconds = int(input('Enter seconds to be converted: '))\n",
    "print_dt(seconds)"
   ]
  },
  {
   "cell_type": "markdown",
   "metadata": {},
   "source": [
    "# 10.Check your version of python interpreter without opening the interpreter (Which command needs to be used on the command line)."
   ]
  },
  {
   "cell_type": "code",
   "execution_count": null,
   "metadata": {},
   "outputs": [],
   "source": [
    "python --version"
   ]
  },
  {
   "cell_type": "markdown",
   "metadata": {},
   "source": [
    "# 11.Find output:\n"
   ]
  },
  {
   "cell_type": "code",
   "execution_count": 51,
   "metadata": {},
   "outputs": [
    {
     "name": "stdout",
     "output_type": "stream",
     "text": [
      "2 -2\n"
     ]
    }
   ],
   "source": [
    "x = 2\n",
    "x *= 3     # x = x*3\n",
    "x = x%4    #modulus opertaor - reminder\n",
    "y = -x\n",
    "print(x,y)"
   ]
  },
  {
   "cell_type": "markdown",
   "metadata": {},
   "source": [
    "# 12. Find output:"
   ]
  },
  {
   "cell_type": "code",
   "execution_count": 53,
   "metadata": {},
   "outputs": [
    {
     "name": "stdout",
     "output_type": "stream",
     "text": [
      "None\n"
     ]
    }
   ],
   "source": [
    "def funct():\n",
    "    pass\n",
    "\n",
    "print(funct())"
   ]
  },
  {
   "cell_type": "code",
   "execution_count": null,
   "metadata": {},
   "outputs": [],
   "source": []
  }
 ],
 "metadata": {
  "kernelspec": {
   "display_name": "Python 3",
   "language": "python",
   "name": "python3"
  },
  "language_info": {
   "codemirror_mode": {
    "name": "ipython",
    "version": 3
   },
   "file_extension": ".py",
   "mimetype": "text/x-python",
   "name": "python",
   "nbconvert_exporter": "python",
   "pygments_lexer": "ipython3",
   "version": "3.6.5"
  }
 },
 "nbformat": 4,
 "nbformat_minor": 2
}
