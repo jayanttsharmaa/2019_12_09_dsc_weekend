{
 "cells": [
  {
   "cell_type": "markdown",
   "metadata": {},
   "source": [
    " # AssignExtra1- input,type"
   ]
  },
  {
   "cell_type": "code",
   "execution_count": 2,
   "metadata": {},
   "outputs": [],
   "source": [
    "import math\n",
    "\n"
   ]
  },
  {
   "cell_type": "code",
   "execution_count": 6,
   "metadata": {},
   "outputs": [
    {
     "name": "stdout",
     "output_type": "stream",
     "text": [
      "['__doc__', '__loader__', '__name__', '__package__', '__spec__', 'acos', 'acosh', 'asin', 'asinh', 'atan', 'atan2', 'atanh', 'ceil', 'copysign', 'cos', 'cosh', 'degrees', 'e', 'erf', 'erfc', 'exp', 'expm1', 'fabs', 'factorial', 'floor', 'fmod', 'frexp', 'fsum', 'gamma', 'gcd', 'hypot', 'inf', 'isclose', 'isfinite', 'isinf', 'isnan', 'ldexp', 'lgamma', 'log', 'log10', 'log1p', 'log2', 'modf', 'nan', 'pi', 'pow', 'radians', 'remainder', 'sin', 'sinh', 'sqrt', 'tan', 'tanh', 'tau', 'trunc']\n"
     ]
    }
   ],
   "source": [
    "print(dir(math))"
   ]
  },
  {
   "cell_type": "markdown",
   "metadata": {},
   "source": [
    "# 1. Input temperature in Fahrenheit in print in Celsius\n",
    "# T(°C) = (T(°F) - 32) / 1.8"
   ]
  },
  {
   "cell_type": "code",
   "execution_count": 2,
   "metadata": {},
   "outputs": [
    {
     "name": "stdout",
     "output_type": "stream",
     "text": [
      "Enter temperature in Fahrenheit  : 100\n",
      "Temperature Farenheit in celcius is :  37.77777777777778\n"
     ]
    }
   ],
   "source": [
    "F = int(input('Enter temperature in Fahrenheit  : '))\n",
    "T = (F-32)/1.8\n",
    "print('Temperature Farenheit in celcius is : ' , T)"
   ]
  },
  {
   "cell_type": "code",
   "execution_count": null,
   "metadata": {},
   "outputs": [],
   "source": []
  },
  {
   "cell_type": "markdown",
   "metadata": {},
   "source": [
    "# 2. Write a program to input a number and print its square and cube\n"
   ]
  },
  {
   "cell_type": "code",
   "execution_count": 30,
   "metadata": {},
   "outputs": [
    {
     "name": "stdout",
     "output_type": "stream",
     "text": [
      "Enter any number : 4\n",
      " square is : 16"
     ]
    }
   ],
   "source": [
    "x = int(input('Enter any number : '))\n",
    "print(' square is : ', end='');  print((x*x), end='')"
   ]
  },
  {
   "cell_type": "code",
   "execution_count": 33,
   "metadata": {},
   "outputs": [
    {
     "name": "stdout",
     "output_type": "stream",
     "text": [
      "Enter any number : 3\n",
      " square is : 9"
     ]
    }
   ],
   "source": [
    "y = int(input('Enter any number : '))\n",
    "print(' square is : ', end='');  print((y**2), end='')"
   ]
  },
  {
   "cell_type": "code",
   "execution_count": 34,
   "metadata": {},
   "outputs": [
    {
     "name": "stdout",
     "output_type": "stream",
     "text": [
      "Enter any number : 6\n",
      " square is : 36.0"
     ]
    }
   ],
   "source": [
    "z = int(input('Enter any number : '))\n",
    "print(' square is : ', end='');  print(math.pow(z,2), end='')"
   ]
  },
  {
   "cell_type": "markdown",
   "metadata": {},
   "source": [
    "# Cube of a number"
   ]
  },
  {
   "cell_type": "code",
   "execution_count": 36,
   "metadata": {},
   "outputs": [
    {
     "name": "stdout",
     "output_type": "stream",
     "text": [
      "Enter any number : 3\n",
      " square is : 27"
     ]
    }
   ],
   "source": [
    "a = int(input('Enter any number : '))\n",
    "print(' square is : ', end='');  print((a*a*a), end='')"
   ]
  },
  {
   "cell_type": "code",
   "execution_count": 37,
   "metadata": {
    "scrolled": true
   },
   "outputs": [
    {
     "name": "stdout",
     "output_type": "stream",
     "text": [
      "Enter any number : 4\n",
      " square is : 64"
     ]
    }
   ],
   "source": [
    "b = int(input('Enter any number : '))\n",
    "print(' square is : ', end='');  print((b**3), end='')"
   ]
  },
  {
   "cell_type": "code",
   "execution_count": 43,
   "metadata": {},
   "outputs": [
    {
     "name": "stdout",
     "output_type": "stream",
     "text": [
      "Enter any number : 5\n",
      " square is : 125.0"
     ]
    }
   ],
   "source": [
    "c = int(input('Enter any number : '))\n",
    "print(' square is : ', end='');  print(math.pow(c,3), end='')"
   ]
  },
  {
   "cell_type": "markdown",
   "metadata": {},
   "source": [
    "#  3. WAP to input a number n and a number m and print the result of following\n",
    "n2 + m2 "
   ]
  },
  {
   "cell_type": "code",
   "execution_count": 49,
   "metadata": {},
   "outputs": [
    {
     "name": "stdout",
     "output_type": "stream",
     "text": [
      "enter value of n : 2\n",
      "enter value of m : 3\n",
      "vlaue of n2 + m2 is :13\n"
     ]
    }
   ],
   "source": [
    "n = int(input('enter value of n : '))\n",
    "m = int(input('enter value of m : '))\n",
    "\n",
    "print('vlaue of n2 + m2 is :', end=''  ); print(int(math.pow(n,2) + math.pow(m,2)))\n",
    "\n"
   ]
  },
  {
   "cell_type": "markdown",
   "metadata": {},
   "source": [
    "# 4. WAP to input a numbers M and N and print result of MN. "
   ]
  },
  {
   "cell_type": "code",
   "execution_count": 51,
   "metadata": {},
   "outputs": [
    {
     "name": "stdout",
     "output_type": "stream",
     "text": [
      "enter value of M : 2\n",
      "enter value of N : 3\n",
      "vlaue of M**N is :8\n"
     ]
    }
   ],
   "source": [
    "M = int(input('enter value of M : '))\n",
    "N = int(input('enter value of N : '))\n",
    "\n",
    "print('vlaue of M**N is :', end=''  ); print(int(math.pow(M,N) ))"
   ]
  },
  {
   "cell_type": "code",
   "execution_count": 53,
   "metadata": {},
   "outputs": [
    {
     "name": "stdout",
     "output_type": "stream",
     "text": [
      "enter value of M1 : 3\n",
      "enter value of N1 : 4\n",
      "vlaue of M1**N1 is :81\n"
     ]
    }
   ],
   "source": [
    "M1 = int(input('enter value of M1 : '))\n",
    "N1 = int(input('enter value of N1 : '))\n",
    "\n",
    "print('vlaue of M1**N1 is :', end=''  ); print(int((M1**N1) ))"
   ]
  },
  {
   "cell_type": "markdown",
   "metadata": {},
   "source": [
    "# 5. Write a simple interest calculator.\n",
    "# A =P(1+rt)\n",
    "# A = Total Accrued Amount (principal + interest)\n",
    "# P = Principal Amount\n",
    "# I = Interest Amount\n",
    "# r = Rate of Interest per year in decimal; r = R/100\n",
    "# t = Time Period involved in months or years"
   ]
  },
  {
   "cell_type": "code",
   "execution_count": 8,
   "metadata": {},
   "outputs": [
    {
     "name": "stdout",
     "output_type": "stream",
     "text": [
      "enter principle amount P : 10000\n",
      "enter rate of interest per year r : 3.87\n",
      "enter time period in months t : 60\n"
     ]
    },
    {
     "ename": "TypeError",
     "evalue": "'int' object is not callable",
     "output_type": "error",
     "traceback": [
      "\u001b[1;31m---------------------------------------------------------------------------\u001b[0m",
      "\u001b[1;31mTypeError\u001b[0m                                 Traceback (most recent call last)",
      "\u001b[1;32m<ipython-input-8-2fa217c0586a>\u001b[0m in \u001b[0;36m<module>\u001b[1;34m\u001b[0m\n\u001b[0;32m      3\u001b[0m \u001b[0mt\u001b[0m \u001b[1;33m=\u001b[0m \u001b[0mint\u001b[0m\u001b[1;33m(\u001b[0m\u001b[0minput\u001b[0m\u001b[1;33m(\u001b[0m\u001b[1;34m'enter time period in months t : '\u001b[0m\u001b[1;33m)\u001b[0m\u001b[1;33m)\u001b[0m\u001b[1;33m\u001b[0m\u001b[1;33m\u001b[0m\u001b[0m\n\u001b[0;32m      4\u001b[0m \u001b[1;33m\u001b[0m\u001b[0m\n\u001b[1;32m----> 5\u001b[1;33m \u001b[0mA\u001b[0m \u001b[1;33m=\u001b[0m \u001b[0mP\u001b[0m \u001b[1;33m(\u001b[0m\u001b[1;36m1\u001b[0m\u001b[1;33m+\u001b[0m \u001b[1;33m(\u001b[0m\u001b[0mr\u001b[0m\u001b[1;33m*\u001b[0m\u001b[0mt\u001b[0m\u001b[1;33m)\u001b[0m \u001b[1;33m)\u001b[0m\u001b[1;33m\u001b[0m\u001b[1;33m\u001b[0m\u001b[0m\n\u001b[0m\u001b[0;32m      6\u001b[0m \u001b[0mprint\u001b[0m\u001b[1;33m(\u001b[0m\u001b[1;34m'rate of interest : '\u001b[0m\u001b[1;33m,\u001b[0m \u001b[0mround\u001b[0m\u001b[1;33m(\u001b[0m\u001b[0mA\u001b[0m\u001b[1;33m)\u001b[0m \u001b[1;33m)\u001b[0m\u001b[1;33m\u001b[0m\u001b[1;33m\u001b[0m\u001b[0m\n",
      "\u001b[1;31mTypeError\u001b[0m: 'int' object is not callable"
     ]
    }
   ],
   "source": [
    "P = int(input('enter principle amount P : '))\n",
    "r = float(input('enter rate of interest per year r : '))\n",
    "t = int(input('enter time period in months t : '))\n",
    "\n",
    "A = P (1+ (r*t) )\n",
    "print('rate of interest : ', round(A) )"
   ]
  },
  {
   "cell_type": "code",
   "execution_count": null,
   "metadata": {},
   "outputs": [],
   "source": []
  },
  {
   "cell_type": "code",
   "execution_count": null,
   "metadata": {},
   "outputs": [],
   "source": []
  },
  {
   "cell_type": "markdown",
   "metadata": {},
   "source": [
    "# 6.WAP to print ascii value of all white-space characters present in python"
   ]
  },
  {
   "cell_type": "code",
   "execution_count": 54,
   "metadata": {},
   "outputs": [],
   "source": [
    "import string\n"
   ]
  },
  {
   "cell_type": "code",
   "execution_count": 55,
   "metadata": {},
   "outputs": [
    {
     "name": "stdout",
     "output_type": "stream",
     "text": [
      "['Formatter', 'Template', '_ChainMap', '_TemplateMetaclass', '__all__', '__builtins__', '__cached__', '__doc__', '__file__', '__loader__', '__name__', '__package__', '__spec__', '_re', '_string', 'ascii_letters', 'ascii_lowercase', 'ascii_uppercase', 'capwords', 'digits', 'hexdigits', 'octdigits', 'printable', 'punctuation', 'whitespace']\n"
     ]
    }
   ],
   "source": [
    "print(dir(string))"
   ]
  },
  {
   "cell_type": "code",
   "execution_count": 57,
   "metadata": {},
   "outputs": [
    {
     "name": "stdout",
     "output_type": "stream",
     "text": [
      "['__add__', '__class__', '__contains__', '__delattr__', '__dir__', '__doc__', '__eq__', '__format__', '__ge__', '__getattribute__', '__getitem__', '__getnewargs__', '__gt__', '__hash__', '__init__', '__init_subclass__', '__iter__', '__le__', '__len__', '__lt__', '__mod__', '__mul__', '__ne__', '__new__', '__reduce__', '__reduce_ex__', '__repr__', '__rmod__', '__rmul__', '__setattr__', '__sizeof__', '__str__', '__subclasshook__', 'capitalize', 'casefold', 'center', 'count', 'encode', 'endswith', 'expandtabs', 'find', 'format', 'format_map', 'index', 'isalnum', 'isalpha', 'isascii', 'isdecimal', 'isdigit', 'isidentifier', 'islower', 'isnumeric', 'isprintable', 'isspace', 'istitle', 'isupper', 'join', 'ljust', 'lower', 'lstrip', 'maketrans', 'partition', 'replace', 'rfind', 'rindex', 'rjust', 'rpartition', 'rsplit', 'rstrip', 'split', 'splitlines', 'startswith', 'strip', 'swapcase', 'title', 'translate', 'upper', 'zfill']\n"
     ]
    }
   ],
   "source": [
    "print(dir(string.whitespace))"
   ]
  },
  {
   "cell_type": "code",
   "execution_count": 58,
   "metadata": {},
   "outputs": [
    {
     "name": "stdout",
     "output_type": "stream",
     "text": [
      "hello\n",
      " \t\n",
      "\r",
      "\u000b",
      "\f",
      "\n"
     ]
    }
   ],
   "source": [
    "print(\"hello\")\n",
    "#whitespace character\n",
    "result=string.whitespace\n",
    "print(result)"
   ]
  },
  {
   "cell_type": "markdown",
   "metadata": {},
   "source": [
    "# 7.Input a single character and print its ascii values. "
   ]
  },
  {
   "cell_type": "code",
   "execution_count": 60,
   "metadata": {},
   "outputs": [
    {
     "name": "stdout",
     "output_type": "stream",
     "text": [
      "Enter any character : a\n",
      "97\n"
     ]
    }
   ],
   "source": [
    "X = input('Enter any character : ')\n",
    "print(ord(X))"
   ]
  },
  {
   "cell_type": "markdown",
   "metadata": {},
   "source": [
    "# 8.WAP that takes area of a circle and gives back the radius and circumference\n",
    "\n",
    "## Area A=pir2\n",
    "## Circumference = 2pir\n",
    "## Radius = sqrt(A/pi"
   ]
  },
  {
   "cell_type": "code",
   "execution_count": 10,
   "metadata": {},
   "outputs": [
    {
     "name": "stdout",
     "output_type": "stream",
     "text": [
      "Enter area of a circle : 2\n",
      "radius :   0.7978845608028654\n",
      "Circumference = 5\n"
     ]
    }
   ],
   "source": [
    "A = int(input('Enter area of a circle : '))\n",
    "R = math.sqrt(A / (math.pi))\n",
    "print('radius :  ', R)\n",
    "print('Circumference = ' , end=''); print(int(2* (math.pi * R)))"
   ]
  },
  {
   "cell_type": "markdown",
   "metadata": {},
   "source": [
    "# 9.WAP to input 2 numbers and swap them."
   ]
  },
  {
   "cell_type": "code",
   "execution_count": 11,
   "metadata": {},
   "outputs": [
    {
     "name": "stdout",
     "output_type": "stream",
     "text": [
      "Enter value of P : 2\n",
      "Enter value of Q : 3\n",
      "Value of P is  2\n",
      "Value of Q is  3\n",
      "Value of P is after SWAP  3\n",
      "Value of Q is after SWAP  2\n"
     ]
    }
   ],
   "source": [
    "P = input('Enter value of P : ')\n",
    "Q = input('Enter value of Q : ' )\n",
    "\n",
    "print('Value of P is ', P) ; print('Value of Q is ', Q)\n",
    "X = P\n",
    "P = Q\n",
    "Q = X\n",
    "\n",
    "print('Value of P is after SWAP ', P) ; print('Value of Q is after SWAP ', Q)"
   ]
  },
  {
   "cell_type": "code",
   "execution_count": 12,
   "metadata": {},
   "outputs": [
    {
     "name": "stdout",
     "output_type": "stream",
     "text": [
      "Enter value of P1 : 2\n",
      "Enter value of Q1 : 5\n",
      "Value of P1 is  2\n",
      "Value of Q1 is  5\n",
      "Value of P1 is after SWAP  5\n",
      "Value of Q1 is after SWAP  2\n"
     ]
    }
   ],
   "source": [
    "P1 = input('Enter value of P1 : ')\n",
    "Q1 = input('Enter value of Q1 : ' )\n",
    "\n",
    "print('Value of P1 is ', P1) ; print('Value of Q1 is ', Q1)\n",
    "\n",
    "P1,Q1 = Q1,P1\n",
    "\n",
    "print('Value of P1 is after SWAP ', P1) ; print('Value of Q1 is after SWAP ', Q1)\n"
   ]
  },
  {
   "cell_type": "markdown",
   "metadata": {},
   "source": [
    "#10 WAP to print sum of first n natural numbers\n",
    "\n",
    "# sum of first n natural numbers = n * (n+1) / 2"
   ]
  },
  {
   "cell_type": "code",
   "execution_count": 1,
   "metadata": {},
   "outputs": [
    {
     "name": "stdout",
     "output_type": "stream",
     "text": [
      "Enter value of n : 4\n",
      "sum of first n natural numbers is  18.0\n"
     ]
    }
   ],
   "source": [
    "n = int(input('Enter value of n : '))\n",
    "sum1 = n * (n+1/2)\n",
    "print('sum of first n natural numbers is ' , sum1)"
   ]
  },
  {
   "cell_type": "code",
   "execution_count": null,
   "metadata": {},
   "outputs": [],
   "source": []
  }
 ],
 "metadata": {
  "kernelspec": {
   "display_name": "Python 3",
   "language": "python",
   "name": "python3"
  },
  "language_info": {
   "codemirror_mode": {
    "name": "ipython",
    "version": 3
   },
   "file_extension": ".py",
   "mimetype": "text/x-python",
   "name": "python",
   "nbconvert_exporter": "python",
   "pygments_lexer": "ipython3",
   "version": "3.7.4"
  }
 },
 "nbformat": 4,
 "nbformat_minor": 2
}
