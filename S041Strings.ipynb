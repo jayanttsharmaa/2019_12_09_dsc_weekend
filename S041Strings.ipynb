{
 "cells": [
  {
   "cell_type": "code",
   "execution_count": 75,
   "metadata": {},
   "outputs": [
    {
     "name": "stdout",
     "output_type": "stream",
     "text": [
      "Gaurav\n",
      "second line\n",
      "Gaurav\n",
      "second line\n",
      "Gaurav\n",
      "second line\n",
      "Gaurav\n",
      "second line\n",
      "Gaurav\n",
      "second line\n"
     ]
    }
   ],
   "source": [
    "def print_name(): # definition\n",
    "    print('Gaurav')\n",
    "    print('second line')\n",
    "    \n",
    "print_name()\n",
    "print_name()\n",
    "print_name()\n",
    "print_name()\n",
    "print_name()"
   ]
  },
  {
   "cell_type": "code",
   "execution_count": 8,
   "metadata": {},
   "outputs": [
    {
     "name": "stdout",
     "output_type": "stream",
     "text": [
      "<function print_name at 0x0000027FA8DF72F0>\n",
      "Gaurav\n",
      "second line\n"
     ]
    }
   ],
   "source": [
    "print(print_name)\n",
    "r = print_name() # calling"
   ]
  },
  {
   "cell_type": "code",
   "execution_count": 10,
   "metadata": {},
   "outputs": [
    {
     "name": "stdout",
     "output_type": "stream",
     "text": [
      "None\n",
      "abcd\n",
      "None\n"
     ]
    }
   ],
   "source": [
    "def dummy():\n",
    "    pass\n",
    "\n",
    "def dummy1():\n",
    "    print('abcd')\n",
    "    \n",
    "r = dummy()\n",
    "print(r)\n",
    "r = dummy1()\n",
    "print(r)"
   ]
  },
  {
   "cell_type": "code",
   "execution_count": 12,
   "metadata": {},
   "outputs": [
    {
     "name": "stdout",
     "output_type": "stream",
     "text": [
      "100\n"
     ]
    }
   ],
   "source": [
    "def dummy1():\n",
    "    return 10*10\n",
    "\n",
    "r = dummy1()\n",
    "print(r)"
   ]
  },
  {
   "cell_type": "code",
   "execution_count": 14,
   "metadata": {},
   "outputs": [
    {
     "name": "stdout",
     "output_type": "stream",
     "text": [
      "abcd\n"
     ]
    }
   ],
   "source": [
    "pow(2,3)\n",
    "print('abcd')"
   ]
  },
  {
   "cell_type": "code",
   "execution_count": 15,
   "metadata": {},
   "outputs": [
    {
     "name": "stdout",
     "output_type": "stream",
     "text": [
      "abcd\n"
     ]
    }
   ],
   "source": [
    "def abc():\n",
    "    print('abcd')\n",
    "abc()"
   ]
  },
  {
   "cell_type": "code",
   "execution_count": 23,
   "metadata": {},
   "outputs": [
    {
     "name": "stdout",
     "output_type": "stream",
     "text": [
      "Enter a number:5\n",
      "outside function 25\n"
     ]
    }
   ],
   "source": [
    "def square():\n",
    "    x = int(input('Enter a number:'))\n",
    "    return x**2\n",
    "    \n",
    "r = square()\n",
    "print('outside function',r)"
   ]
  },
  {
   "cell_type": "code",
   "execution_count": 28,
   "metadata": {},
   "outputs": [
    {
     "name": "stdout",
     "output_type": "stream",
     "text": [
      "100\n",
      "Input:4\n",
      "16\n",
      "17\n"
     ]
    },
    {
     "ename": "TypeError",
     "evalue": "unsupported operand type(s) for ** or pow(): 'str' and 'int'",
     "output_type": "error",
     "traceback": [
      "\u001b[1;31m---------------------------------------------------------------------------\u001b[0m",
      "\u001b[1;31mTypeError\u001b[0m                                 Traceback (most recent call last)",
      "\u001b[1;32m<ipython-input-28-83d68a20b26d>\u001b[0m in \u001b[0;36m<module>\u001b[1;34m\u001b[0m\n\u001b[0;32m      7\u001b[0m \u001b[1;33m\u001b[0m\u001b[0m\n\u001b[0;32m      8\u001b[0m \u001b[0mprint\u001b[0m\u001b[1;33m(\u001b[0m \u001b[0msquare\u001b[0m\u001b[1;33m(\u001b[0m\u001b[1;36m1\u001b[0m\u001b[1;33m)\u001b[0m \u001b[1;33m+\u001b[0m \u001b[0msquare\u001b[0m\u001b[1;33m(\u001b[0m\u001b[1;36m4\u001b[0m\u001b[1;33m)\u001b[0m\u001b[1;33m)\u001b[0m\u001b[1;33m\u001b[0m\u001b[1;33m\u001b[0m\u001b[0m\n\u001b[1;32m----> 9\u001b[1;33m \u001b[0mprint\u001b[0m\u001b[1;33m(\u001b[0m\u001b[0msquare\u001b[0m\u001b[1;33m(\u001b[0m\u001b[1;34m'a'\u001b[0m\u001b[1;33m)\u001b[0m\u001b[1;33m)\u001b[0m\u001b[1;33m\u001b[0m\u001b[1;33m\u001b[0m\u001b[0m\n\u001b[0m",
      "\u001b[1;32m<ipython-input-28-83d68a20b26d>\u001b[0m in \u001b[0;36msquare\u001b[1;34m(x)\u001b[0m\n\u001b[0;32m      1\u001b[0m \u001b[1;32mdef\u001b[0m \u001b[0msquare\u001b[0m\u001b[1;33m(\u001b[0m\u001b[0mx\u001b[0m\u001b[1;33m)\u001b[0m\u001b[1;33m:\u001b[0m\u001b[1;33m\u001b[0m\u001b[1;33m\u001b[0m\u001b[0m\n\u001b[1;32m----> 2\u001b[1;33m     \u001b[1;32mreturn\u001b[0m \u001b[0mx\u001b[0m\u001b[1;33m**\u001b[0m\u001b[1;36m2\u001b[0m\u001b[1;33m\u001b[0m\u001b[1;33m\u001b[0m\u001b[0m\n\u001b[0m\u001b[0;32m      3\u001b[0m \u001b[1;33m\u001b[0m\u001b[0m\n\u001b[0;32m      4\u001b[0m \u001b[0mr\u001b[0m \u001b[1;33m=\u001b[0m \u001b[0msquare\u001b[0m\u001b[1;33m(\u001b[0m\u001b[1;36m10\u001b[0m\u001b[1;33m)\u001b[0m\u001b[1;33m\u001b[0m\u001b[1;33m\u001b[0m\u001b[0m\n\u001b[0;32m      5\u001b[0m \u001b[0mprint\u001b[0m\u001b[1;33m(\u001b[0m\u001b[0mr\u001b[0m\u001b[1;33m)\u001b[0m\u001b[1;33m\u001b[0m\u001b[1;33m\u001b[0m\u001b[0m\n",
      "\u001b[1;31mTypeError\u001b[0m: unsupported operand type(s) for ** or pow(): 'str' and 'int'"
     ]
    }
   ],
   "source": [
    "def square(x):\n",
    "    return x**2\n",
    "\n",
    "r = square(10)\n",
    "print(r)\n",
    "print(square(int( input('Input:') )))\n",
    "\n",
    "print( square(1) + square(4))\n",
    "print(square('a'))"
   ]
  },
  {
   "cell_type": "code",
   "execution_count": 30,
   "metadata": {},
   "outputs": [
    {
     "name": "stdout",
     "output_type": "stream",
     "text": [
      "-1\n"
     ]
    }
   ],
   "source": [
    "# WAF sum() that takes 2 arguments and prints sum of those arguments\n",
    "\n",
    "def sum(n1, n2):\n",
    "    r = n1 - n2\n",
    "    print(r)\n",
    "    \n",
    "sum(1,2)"
   ]
  },
  {
   "cell_type": "code",
   "execution_count": 34,
   "metadata": {},
   "outputs": [
    {
     "name": "stdout",
     "output_type": "stream",
     "text": [
      "abcdef\n",
      "f\n",
      "f\n",
      "c\n"
     ]
    }
   ],
   "source": [
    "s = input()\n",
    "print(s[-1])\n",
    "print(s[len(s) - 1])\n",
    "\n",
    "# abcdef => c\n",
    "# abcde  => c\n",
    "print(s[(len(s)-1)//2])"
   ]
  },
  {
   "cell_type": "code",
   "execution_count": 37,
   "metadata": {},
   "outputs": [
    {
     "name": "stdout",
     "output_type": "stream",
     "text": [
      "c\n",
      "c\n"
     ]
    }
   ],
   "source": [
    "def mid_char(s):\n",
    "    return s[(len(s)-1)//2]\n",
    "\n",
    "x = input()\n",
    "print(mid_char(x))\n",
    "print(mid_char('abcde'))\n",
    "print(mid_char('abcdef'))"
   ]
  },
  {
   "cell_type": "markdown",
   "metadata": {},
   "source": [
    "## Strings"
   ]
  },
  {
   "cell_type": "code",
   "execution_count": 45,
   "metadata": {},
   "outputs": [
    {
     "name": "stdout",
     "output_type": "stream",
     "text": [
      "False\n",
      "True\n",
      "False\n",
      "False\n",
      "False\n",
      "\n",
      "False\n",
      "False\n",
      "False\n",
      "False\n",
      "False\n",
      "True\n"
     ]
    }
   ],
   "source": [
    "s = 'abcd pqr'\n",
    "print(s.isupper())\n",
    "print(s.islower())\n",
    "print(s.isspace())\n",
    "print(s.isalpha())\n",
    "print(s.isdigit())\n",
    "print()\n",
    "\n",
    "print('12 3'.isupper())\n",
    "print('12 3'.islower())\n",
    "print('12 3'.isspace())\n",
    "print('12 3'.isalpha())\n",
    "print('12a3'.isdigit())\n",
    "print('12a3'.isalnum())"
   ]
  },
  {
   "cell_type": "code",
   "execution_count": 52,
   "metadata": {},
   "outputs": [
    {
     "name": "stdout",
     "output_type": "stream",
     "text": [
      "0\n",
      "-1\n",
      "0\n",
      "3\n",
      "4\n",
      "-1\n",
      "4\n"
     ]
    }
   ],
   "source": [
    "s = 'abcdababc'\n",
    "#    012345678\n",
    "print(s.find('a'))\n",
    "print(s.find('A'))\n",
    "print(s.find('ab'))\n",
    "print(s.find('da'))\n",
    "print(s.find('ab',3))\n",
    "print(s.find('ab',3,5))\n",
    "print(s.find('ab',3,6))"
   ]
  },
  {
   "cell_type": "code",
   "execution_count": 53,
   "metadata": {},
   "outputs": [
    {
     "name": "stdout",
     "output_type": "stream",
     "text": [
      "3\n",
      "0\n",
      "3\n",
      "1\n",
      "2\n",
      "0\n",
      "1\n"
     ]
    }
   ],
   "source": [
    "s = 'abcdababc'\n",
    "#    012345678\n",
    "print(s.count('a'))\n",
    "print(s.count('A'))\n",
    "print(s.count('ab'))\n",
    "print(s.count('da'))\n",
    "print(s.count('ab',3))\n",
    "print(s.count('ab',3,5))\n",
    "print(s.count('ab',3,6))"
   ]
  },
  {
   "cell_type": "code",
   "execution_count": 56,
   "metadata": {},
   "outputs": [
    {
     "name": "stdout",
     "output_type": "stream",
     "text": [
      "ABCD#234\n"
     ]
    }
   ],
   "source": [
    "print('abcd#234'.upper())"
   ]
  },
  {
   "cell_type": "code",
   "execution_count": 57,
   "metadata": {},
   "outputs": [
    {
     "name": "stdout",
     "output_type": "stream",
     "text": [
      "True\n",
      "False\n",
      "False\n",
      "True\n"
     ]
    }
   ],
   "source": [
    "s= 'abcd'\n",
    "print(s.startswith('abc'))\n",
    "print(s.endswith('abc'))\n",
    "print(s.startswith('cd'))\n",
    "print(s.endswith('cd'))"
   ]
  },
  {
   "cell_type": "code",
   "execution_count": 60,
   "metadata": {},
   "outputs": [
    {
     "name": "stdout",
     "output_type": "stream",
     "text": [
      "True\n",
      "abc cd\n"
     ]
    }
   ],
   "source": [
    "s = '\\n\\t \\n'\n",
    "print(s.isspace())\n",
    "s = '  abc cd\\n'\n",
    "print(s.strip())"
   ]
  },
  {
   "cell_type": "code",
   "execution_count": 62,
   "metadata": {},
   "outputs": [
    {
     "name": "stdout",
     "output_type": "stream",
     "text": [
      "abcd ABCD\n"
     ]
    }
   ],
   "source": [
    "s = 'abcd'\n",
    "r = s.upper()\n",
    "print(s, r)\n"
   ]
  },
  {
   "cell_type": "code",
   "execution_count": 64,
   "metadata": {},
   "outputs": [
    {
     "name": "stdout",
     "output_type": "stream",
     "text": [
      "ABCD\n",
      "abcd\n",
      "ABCD\n"
     ]
    }
   ],
   "source": [
    "s = 'abcd'\n",
    "print(s.upper())\n",
    "print(s)\n",
    "s = s.upper()\n",
    "print(s)"
   ]
  },
  {
   "cell_type": "code",
   "execution_count": 68,
   "metadata": {},
   "outputs": [
    {
     "name": "stdout",
     "output_type": "stream",
     "text": [
      "PQcd pqr PQc PQ\n",
      "PQcd pqr PQc ab\n"
     ]
    }
   ],
   "source": [
    "s = 'abcd pqr abc ab'\n",
    "r = s.replace('ab','PQ')\n",
    "print(r)\n",
    "r = s.replace('ab','PQ', 2)\n",
    "print(r)"
   ]
  },
  {
   "cell_type": "code",
   "execution_count": 72,
   "metadata": {},
   "outputs": [
    {
     "name": "stdout",
     "output_type": "stream",
     "text": [
      "this is a string\n",
      "gnirts a si siht\n",
      "this is a string\n"
     ]
    }
   ],
   "source": [
    "s = input()\n",
    "print(s[::-1])\n",
    "print(s)"
   ]
  },
  {
   "cell_type": "code",
   "execution_count": 74,
   "metadata": {},
   "outputs": [
    {
     "name": "stdout",
     "output_type": "stream",
     "text": [
      "True\n",
      "True\n"
     ]
    }
   ],
   "source": [
    "print('abc' in 'abcdpqr')\n",
    "print('p' in 'abcdpqr')"
   ]
  }
 ],
 "metadata": {
  "kernelspec": {
   "display_name": "Python 3",
   "language": "python",
   "name": "python3"
  },
  "language_info": {
   "codemirror_mode": {
    "name": "ipython",
    "version": 3
   },
   "file_extension": ".py",
   "mimetype": "text/x-python",
   "name": "python",
   "nbconvert_exporter": "python",
   "pygments_lexer": "ipython3",
   "version": "3.7.3"
  }
 },
 "nbformat": 4,
 "nbformat_minor": 2
}
