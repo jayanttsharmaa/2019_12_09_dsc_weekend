{
 "cells": [
  {
   "cell_type": "code",
   "execution_count": 16,
   "metadata": {},
   "outputs": [
    {
     "name": "stdout",
     "output_type": "stream",
     "text": [
      "['this', 'is,a', 'string']\n",
      "this 4\n",
      "is,a 4\n",
      "string 6\n"
     ]
    }
   ],
   "source": [
    "d= 'this is,a string'\n",
    "x = d.split()\n",
    "print(x)\n",
    "i = 0\n",
    "while i < len(x):\n",
    "    print(x[i], len(x[i]))\n",
    "    i += 1\n",
    "\n"
   ]
  },
  {
   "cell_type": "code",
   "execution_count": 6,
   "metadata": {},
   "outputs": [
    {
     "name": "stdout",
     "output_type": "stream",
     "text": [
      "1,2,3,4\n",
      "['1', '2', '3', '4']\n"
     ]
    }
   ],
   "source": [
    "s = input()\n",
    "print(s.split(','))\n",
    "\n"
   ]
  },
  {
   "cell_type": "code",
   "execution_count": 11,
   "metadata": {},
   "outputs": [
    {
     "name": "stdout",
     "output_type": "stream",
     "text": [
      "60\n",
      "2\n"
     ]
    }
   ],
   "source": [
    "a = [10,20,30]\n",
    "print(sum(a))\n",
    "print(sum( [True, False, True] ))"
   ]
  },
  {
   "cell_type": "code",
   "execution_count": 13,
   "metadata": {},
   "outputs": [
    {
     "name": "stdout",
     "output_type": "stream",
     "text": [
      "[1, 2, 3, 4]\n",
      "[1, 2] [3, 4]\n"
     ]
    }
   ],
   "source": [
    "a = [1,2]\n",
    "b = [3,4]\n",
    "print(a + b)\n",
    "print(a, b)"
   ]
  },
  {
   "cell_type": "code",
   "execution_count": 24,
   "metadata": {},
   "outputs": [
    {
     "name": "stdout",
     "output_type": "stream",
     "text": [
      "Enter numbers separated by , : 1,2,3\n",
      "['1', '2', '3']\n",
      "[1, 2, 3]\n",
      "[1, 2, 3]\n",
      "6\n"
     ]
    }
   ],
   "source": [
    "num = input('Enter numbers separated by , : ')\n",
    "\n",
    "nums = num.split(',')\n",
    "\n",
    "res = [] # sum = 0\n",
    "i = 0\n",
    "while i < len(nums):\n",
    "    res.append( int(nums[i]) ) # sum = sum + x\n",
    "    i+=1\n",
    "\n",
    "\n",
    "print(nums)\n",
    "print(res)\n",
    "\n",
    "i = 0\n",
    "while i < len(nums):\n",
    "    nums[i] = int(nums[i])\n",
    "    i += 1\n",
    "\n",
    "print(nums)\n",
    "print(sum(res))"
   ]
  },
  {
   "cell_type": "code",
   "execution_count": 1,
   "metadata": {},
   "outputs": [
    {
     "name": "stdout",
     "output_type": "stream",
     "text": [
      "abcd\n",
      "a   97\n",
      "b   98\n",
      "c   99\n",
      "d   100\n"
     ]
    }
   ],
   "source": [
    "# WAP to input a string and print ascii value of each character\n",
    "# \"abcd\"\n",
    "# a: 97\n",
    "# b: 98\n",
    "# c: 99\n",
    "# d: 100\n",
    "\n",
    "s = input()\n",
    "i = 0\n",
    "while i<len(s):\n",
    "    print(s[i],\" \",ord(s[i]))\n",
    "    i+=1"
   ]
  },
  {
   "cell_type": "code",
   "execution_count": 7,
   "metadata": {},
   "outputs": [
    {
     "name": "stdout",
     "output_type": "stream",
     "text": [
      "enter a string : abcd\n",
      "a : 97\n",
      "b : 98\n",
      "c : 99\n",
      "d : 100\n"
     ]
    }
   ],
   "source": [
    "\n",
    "char = input('enter a string : ')\n",
    "i=0\n",
    "while i < len(char):\n",
    "    print(char[i],\":\",ord(char[i]))\n",
    "    i = (i+1)\n"
   ]
  },
  {
   "cell_type": "code",
   "execution_count": null,
   "metadata": {},
   "outputs": [],
   "source": [
    "for <var> in <seq/iterable>:\n",
    "    # code"
   ]
  },
  {
   "cell_type": "code",
   "execution_count": 8,
   "metadata": {},
   "outputs": [
    {
     "name": "stdout",
     "output_type": "stream",
     "text": [
      "a\n",
      "b\n",
      "c\n",
      "d\n"
     ]
    }
   ],
   "source": [
    "for x in 'abcd':\n",
    "    print(x)"
   ]
  },
  {
   "cell_type": "code",
   "execution_count": 9,
   "metadata": {},
   "outputs": [
    {
     "name": "stdout",
     "output_type": "stream",
     "text": [
      "bacd\n",
      "b 98\n",
      "a 97\n",
      "c 99\n",
      "d 100\n"
     ]
    }
   ],
   "source": [
    "s = input()\n",
    "\n",
    "for c in s:\n",
    "    print(c, ord(c))"
   ]
  },
  {
   "cell_type": "code",
   "execution_count": 10,
   "metadata": {},
   "outputs": [
    {
     "name": "stdout",
     "output_type": "stream",
     "text": [
      "abcAeI 123\n",
      "4\n"
     ]
    }
   ],
   "source": [
    "s = input()\n",
    "vowels = list('aeiou')\n",
    "\n",
    "count = 0\n",
    "for c in s:\n",
    "    if c.lower() in vowels:\n",
    "        count += 1\n",
    "        \n",
    "print(count)\n",
    "    "
   ]
  },
  {
   "cell_type": "code",
   "execution_count": 12,
   "metadata": {},
   "outputs": [
    {
     "name": "stdout",
     "output_type": "stream",
     "text": [
      "\n"
     ]
    }
   ],
   "source": [
    "for c in input():\n",
    "    print(c)"
   ]
  },
  {
   "cell_type": "code",
   "execution_count": 13,
   "metadata": {},
   "outputs": [
    {
     "name": "stdout",
     "output_type": "stream",
     "text": [
      "this is a sentence\n",
      "this\n",
      "is\n",
      "a\n",
      "sentence\n"
     ]
    }
   ],
   "source": [
    "s = input()\n",
    "for word in s.split():\n",
    "    print(word)\n",
    "    "
   ]
  },
  {
   "cell_type": "code",
   "execution_count": null,
   "metadata": {},
   "outputs": [],
   "source": [
    "s = input()\n",
    "\n",
    "\n",
    "for c in s:\n",
    "    print(c)\n",
    "    \n",
    "    \n",
    "i = 0\n",
    "while i < len(s):\n",
    "    c = s[i]\n",
    "    print(c)\n",
    "    i -= 1"
   ]
  },
  {
   "cell_type": "code",
   "execution_count": 16,
   "metadata": {},
   "outputs": [
    {
     "name": "stdout",
     "output_type": "stream",
     "text": [
      "Enter a list of numbers separated by , :1,2,3,4,5\n",
      "Enter a number: 4\n",
      "[1, 2, 3, 4, 5]\n",
      "3\n"
     ]
    }
   ],
   "source": [
    "def input_list_nums():\n",
    "    nums = input('Enter a list of numbers separated by , :')\n",
    "    res = []\n",
    "    for num in nums.split(','):\n",
    "        res.append(int(num))\n",
    "    return res\n",
    "\n",
    "\n",
    "def find_num(seq, num): # linear search O(n)\n",
    "    i = 0\n",
    "    while i < len(seq):\n",
    "        if seq[i] == num:\n",
    "            return i\n",
    "        i+=1\n",
    "        \n",
    "    return -1\n",
    "\n",
    "def find_num(seq, num): # linear search O(n)\n",
    "    for i in range(len(seq)):\n",
    "        if seq[i] == num:\n",
    "            return i\n",
    "        \n",
    "    return -1\n",
    "# binary search O(log n)\n",
    "\n",
    "a = input_list_nums()\n",
    "n = int(input('Enter a number: '))\n",
    "print(a)\n",
    "print(find_num(a, n))\n"
   ]
  },
  {
   "cell_type": "code",
   "execution_count": 19,
   "metadata": {},
   "outputs": [
    {
     "name": "stdout",
     "output_type": "stream",
     "text": [
      "['a', 'b', 'B', 'A', 'c', '1']\n",
      "['1', 'A', 'B', 'a', 'b', 'c']\n",
      "['c', 'b', 'a', 'B', 'A', '1']\n"
     ]
    }
   ],
   "source": [
    "a = list('abBAc1')\n",
    "print(a)\n",
    "a.sort()\n",
    "print(a)\n",
    "a.sort(reverse = True)\n",
    "print(a)"
   ]
  },
  {
   "cell_type": "code",
   "execution_count": 33,
   "metadata": {},
   "outputs": [
    {
     "name": "stdout",
     "output_type": "stream",
     "text": [
      "[40, 30, 20, 10]\n"
     ]
    }
   ],
   "source": [
    "# WAF reverse(seq), that reverses the sequence\n",
    "# ex:\n",
    "# a = [10,20,30,40]\n",
    "# reverse(a)\n",
    "# a becomes [40,30,20,10]\n",
    "\n",
    "# i -> 0 , j -> len(seq) - 1\n",
    "# i+=1 j -= 1\n",
    "# i < j\n",
    "# a,b = b,a\n",
    "\n",
    "def reverse(seq):\n",
    "    i = 0\n",
    "    j = len(seq) - 1\n",
    "    while i < j:\n",
    "        seq[i],seq[j] = seq[j], seq[i]\n",
    "        i += 1\n",
    "        j -= 1\n",
    "\n",
    "a = [10,20,30,40]\n",
    "reverse(a)\n",
    "print(a)\n",
    "\n",
    "# i 0 1\n",
    "# j 3 2\n",
    "# [10,20,30,40]\n",
    "#  0  1  2  3"
   ]
  },
  {
   "cell_type": "code",
   "execution_count": 20,
   "metadata": {},
   "outputs": [
    {
     "name": "stdout",
     "output_type": "stream",
     "text": [
      "20 10\n"
     ]
    }
   ],
   "source": [
    "a = 10\n",
    "b = 20\n",
    "a,b = b,a\n",
    "print(a,b)"
   ]
  },
  {
   "cell_type": "code",
   "execution_count": 23,
   "metadata": {},
   "outputs": [
    {
     "name": "stdout",
     "output_type": "stream",
     "text": [
      "range(0, 10)\n",
      "[0, 1, 2, 3, 4, 5, 6, 7, 8, 9]\n"
     ]
    }
   ],
   "source": [
    "r = range(10)\n",
    "print(r)\n",
    "print(list(r))"
   ]
  },
  {
   "cell_type": "code",
   "execution_count": 24,
   "metadata": {},
   "outputs": [
    {
     "name": "stdout",
     "output_type": "stream",
     "text": [
      "0\n",
      "1\n",
      "2\n",
      "3\n",
      "4\n",
      "5\n",
      "6\n",
      "7\n",
      "8\n",
      "9\n"
     ]
    }
   ],
   "source": [
    "for i in range(10):\n",
    "    print(i)"
   ]
  },
  {
   "cell_type": "code",
   "execution_count": 25,
   "metadata": {},
   "outputs": [
    {
     "name": "stdout",
     "output_type": "stream",
     "text": [
      "5\n",
      "6\n",
      "7\n",
      "8\n",
      "9\n"
     ]
    }
   ],
   "source": [
    "for i in range(5, 10):\n",
    "    print(i)"
   ]
  },
  {
   "cell_type": "code",
   "execution_count": 28,
   "metadata": {},
   "outputs": [
    {
     "name": "stdout",
     "output_type": "stream",
     "text": [
      "2\n",
      "5\n",
      "8\n"
     ]
    }
   ],
   "source": [
    "for i in range(2,10,3):\n",
    "    print(i)"
   ]
  },
  {
   "cell_type": "code",
   "execution_count": null,
   "metadata": {},
   "outputs": [],
   "source": [
    "s = input('Enter y/n: ')"
   ]
  },
  {
   "cell_type": "code",
   "execution_count": 29,
   "metadata": {},
   "outputs": [
    {
     "name": "stdout",
     "output_type": "stream",
     "text": [
      "10\n",
      "20\n",
      "30\n",
      "40\n"
     ]
    }
   ],
   "source": [
    "a = [10,20,30,40]\n",
    "for element in a:\n",
    "    print(element)"
   ]
  },
  {
   "cell_type": "code",
   "execution_count": 30,
   "metadata": {},
   "outputs": [
    {
     "name": "stdout",
     "output_type": "stream",
     "text": [
      "40\n",
      "30\n",
      "20\n",
      "10\n"
     ]
    }
   ],
   "source": [
    "a = [10,20,30,40]\n",
    "for element in reversed(a):\n",
    "    print(element)"
   ]
  },
  {
   "cell_type": "code",
   "execution_count": 32,
   "metadata": {},
   "outputs": [
    {
     "name": "stdout",
     "output_type": "stream",
     "text": [
      "40\n",
      "30\n",
      "20\n",
      "10\n"
     ]
    }
   ],
   "source": [
    "a = [10,20,30,40]\n",
    "for i in range(len(a)-1,-1,-1):\n",
    "    print(a[i])"
   ]
  },
  {
   "cell_type": "code",
   "execution_count": 35,
   "metadata": {},
   "outputs": [
    {
     "name": "stdout",
     "output_type": "stream",
     "text": [
      "***\n",
      " *\n",
      " *\n",
      "\n"
     ]
    }
   ],
   "source": [
    "s = \"\"\"***\n",
    " *\n",
    " *\n",
    "\"\"\"\n",
    "print(s)"
   ]
  }
 ],
 "metadata": {
  "kernelspec": {
   "display_name": "Python 3",
   "language": "python",
   "name": "python3"
  },
  "language_info": {
   "codemirror_mode": {
    "name": "ipython",
    "version": 3
   },
   "file_extension": ".py",
   "mimetype": "text/x-python",
   "name": "python",
   "nbconvert_exporter": "python",
   "pygments_lexer": "ipython3",
   "version": "3.7.3"
  }
 },
 "nbformat": 4,
 "nbformat_minor": 2
}
